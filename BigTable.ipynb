{
 "cells": [
  {
   "cell_type": "code",
   "execution_count": 4,
   "metadata": {
    "collapsed": false
   },
   "outputs": [],
   "source": [
    "import csv\n",
    "import pymongo\n",
    "from pymongo import MongoClient\n",
    "import pandas as pd"
   ]
  },
  {
   "cell_type": "code",
   "execution_count": 9,
   "metadata": {
    "collapsed": false
   },
   "outputs": [
    {
     "name": "stdout",
     "output_type": "stream",
     "text": [
      "4649\n",
      "1890095\n",
      "{u'd_movie_id': u'1890095', u'true_url': u'http://www.truemovie.com/2006moviedata/GrandMeaulnes.htm', u'at_title_t': u'\\n\\r\\n\\t\\u7f8e\\u9e97\\u7684\\u7d04\\u5b9a Le Grand Meaulnes \\n', u'at_poster': u'http://l10l010l3322l1.photos.atmovies.com.tw:8080/film/2006/G/fgfr50481349/poster/pl_fgfr50481349_0002.jpg', u'at_actor': [u'\\u5c3c\\u53e4\\u62c9\\u8fea\\u4f5b\\u4f11\\u723e Nicolas Duvauchelle', u'\\u5c1a\\u5df4\\u5824\\u83ab\\u91cc\\u8036 Jean-Baptiste Maunier', u'\\u514b\\u857e\\u66fc\\u7d72\\u6ce2\\u897f Clemence Poesy', u'\\u5c1a\\u76ae\\u723e\\u99ac\\u5229\\u8036 Jean-Pierre Marielle', u'\\u83f2\\u529b\\u6d66\\u6258\\u6d77\\u9813 Philippe Torreton', u'\\u611b\\u871c\\u9e97\\u5fb7\\u594e\\u6069 Emilie Dequenne', u'\\u99ac\\u529b\\u514b\\u9f4a\\u72c4 Malik Zidi', u'Valerie Stroh', u'\\u4f5b\\u863f\\u502b\\u65af\\u6e6f\\u746a\\u68ee Florence Thomassin'], u'true_type': [u'\\u5287\\u60c5'], u'd_title1': u'', u'at_release_date': u'2007/06/29', u'at_rating': u'6.7', u'at_writer': [u'\\u4e9e\\u862d\\u5085\\u5c3c\\u8449 Alain-Fournier', u'Jean Cosmos'], u'at_issuer': u'Mosca Films', u'd_title2': u'\\u5927\\u6469\\u5c14\\u7eb3 / \\u6545\\u68a6 / \\u9ad8\\u4e2a\\u513f\\u83ab\\u5357', u'at_director': [u'\\u5c1a\\u4e39\\u5c3c\\u723e\\u5f17\\u54c8 Jean-Daniel Verhaeghe'], u'at_intro_l': u'\\u5287\\u60c5\\u7c21\\u4ecb\\r\\n\\t\\t\\t\\r\\n             \\t\\t\\u5929\\u751f\\u5177\\u6709\\u9818\\u8896\\u6c23\\u8cea\\u3001\\u53c8\\u9177\\u53c8\\u5e25\\u7684\\u83ab\\u5357\\uff0c\\u71b1\\u611b\\u5192\\u96aa\\u4e26\\u5e38\\u6709\\u51fa\\u4eba\\u610f\\u8868\\u7684\\u60f3\\u6cd5\\u3002\\u525b\\u8f49\\u5230\\u65b0\\u5b78\\u6821\\u7684\\u4ed6\\uff0c\\u5f88\\u5feb\\u6210\\u70ba\\u540c\\u5b78\\u5011\\u7684\\u5076\\u50cf\\u3002\\u67d0\\u65e5\\uff0c\\u83ab\\u5357\\u99d5\\u8457\\u99ac\\u8eca\\u53bb\\u8fce\\u63a5\\u8cb4\\u8cd3\\uff0c\\u537b\\u4e0d\\u614e\\u8ff7\\u8def\\u800c\\u95d6\\u9032\\u4e86\\u4e00\\u5ea7\\u8c6a\\u83ef\\u838a\\u5712\\u3002\\u4ed6\\u610f\\u5916\\u53d7\\u9080\\u53c3\\u52a0\\u4e00\\u5834\\u5a5a\\u79ae\\uff0c\\u4e26\\u9082\\u9005\\u4e86\\u7f8e\\u9e97\\u4f73\\u4eba\\u4f0a\\u99ae\\u5a1c\\u3002\\u4e0d\\u6599\\uff0c\\u5a5a\\u79ae\\u56e0\\u610f\\u5916\\u800c\\u4e2d\\u65b7\\uff0c\\u83ab\\u5357\\u4e0d\\u5f97\\u4e0d\\u5009\\u7687\\u96e2\\u53bb\\uff0c\\u5306\\u5fd9\\u9593\\u548c\\u4f0a\\u99ae\\u5a1c\\u7d04\\u5b9a\\u4e86\\u65e5\\u5f8c\\u518d\\u76f8\\u898b\\u3002\\r \\u56de\\u5b78\\u6821\\u5f8c\\uff0c\\u83ab\\u5357\\u5c07\\u9019\\u5834\\u5947\\u9047\\u544a\\u8a34\\u540c\\u5b78\\u99ae\\u65af\\u83ef\\uff0c\\u537b\\u5f15\\u8d77\\u4e86\\u99ae\\u65af\\u83ef\\u7684\\u8cea\\u7591\\u3002\\u800c\\u7576\\u83ab\\u5357\\u60f3\\u5e36\\u99ae\\u65af\\u83ef\\u91cd\\u8fd4\\u838a\\u5712\\u6642\\uff0c\\u537b\\u518d\\u4e5f\\u5c0b\\u4e0d\\u8457\\u56de\\u838a\\u5712\\u7684\\u8def\\u3002\\u96e3\\u4ee5\\u5fd8\\u61f7\\u9019\\u8d9f\\u5947\\u5e7b\\u4e4b\\u65c5\\u7684\\u83ab\\u5357\\uff0c\\u81ea\\u6b64\\u4e00\\u5fc3\\u8ffd\\u5c0b\\u4efb\\u4f55\\u6709\\u95dc\\u65bc\\u6d88\\u5931\\u838a\\u5712\\u548c\\u7f8e\\u9e97\\u4f73\\u4eba\\u7684\\u6d88\\u606f\\uff0c\\u751a\\u81f3\\u56e0\\u6b64\\u96e2\\u6821\\u8ffd\\u8e64\\u5230\\u5df4\\u9ece\\u3002\\u4ed6\\u5c0d\\u5922\\u60f3\\u7684\\u57f7\\u8457\\u8207\\u8ffd\\u9010\\uff0c\\u537b\\u63db\\u4f86\\u4e86\\u60c5\\u611f\\u548c\\u610f\\u5fd7\\u4e0a\\u7684\\u96d9\\u91cd\\u8003\\u9a57\\u2026\\u3002\\r\\u67d0\\u65e5\\uff0c\\u610f\\u5916\\u95d6\\u5165\\u68ee\\u6797\\u7684\\u99ae\\u65af\\u83ef\\uff0c\\u8d6b\\u7136\\u767c\\u73fe\\u795e\\u79d8\\u838a\\u5712\\u7adf\\u77d7\\u7acb\\u5728\\u773c\\u524d\\u3002\\u4ed6\\u65bc\\u662f\\u8d95\\u7dca\\u5beb\\u4fe1\\u5230\\u5df4\\u9ece\\u6025\\u5c0b\\u83ab\\u5357\\u56de\\u4f86\\uff0c\\u4e00\\u6bb5\\u8569\\u6c23\\u8ff4\\u8178\\u7684\\u751c\\u871c\\u5922\\u5e7b\\u81ea\\u6b64\\u958b\\u59cb\\u2026\\u3002\\r  \\u5f97\\u4e0d\\u5230\\u7684\\u611b\\u60c5\\uff0c\\u662f\\u5426\\u66f4\\u4ee4\\u4eba\\u523b\\u9aa8\\u9298\\u5fc3\\uff1f\\u559a\\u4e0d\\u56de\\u7684\\u6642\\u5149\\uff0c\\u662f\\u5426\\u66f4\\u6559\\u4eba\\u7dec\\u61f7\\u50b7\\u611f\\uff1f\\u300a\\u7f8e\\u9e97\\u7684\\u7d04\\u5b9a\\u300b\\u662f\\u6839\\u64da\\u5bb6\\u55bb\\u6236\\u66c9\\u3001\\u88ab\\u4ee5\\u8d85\\u904e40\\u591a\\u7a2e\\u6587\\u5b57\\u7ffb\\u8b6f\\u7684\\u6cd5\\u570b\\u767e\\u5e74\\u6587\\u5b78\\u7d93\\u5178\\u300c\\u9ad8\\u500b\\u5152\\u83ab\\u5357\\u300d\\u6240\\u6539\\u7de8\\uff0c\\u4e5f\\u662f\\u9019\\u90e8\\u611f\\u4eba\\u540d\\u8457\\u7b2c\\u4e09\\u5ea6\\u88ab\\u642c\\u4e0a\\u9280\\u5e55\\u3002\\u6709\\u5225\\u65bc\\u524d\\u4f5c\\uff0c\\u5c0e\\u6f14\\u5c1a\\u4e39\\u5c3c\\u723e\\u5f17\\u54c8\\u4e0d\\u4f46\\u4ee5\\u5c0f\\u8aaa\\u539f\\u6709\\u7684\\u60b2\\u6b61\\u6545\\u4e8b\\u70ba\\u67b6\\u69cb\\uff0c\\u66f4\\u5c07\\u4f5c\\u8005\\u4e9e\\u862d\\u5085\\u5c3c\\u8449\\u7684\\u50b3\\u5947\\u4eba\\u751f\\u4f75\\u5165\\u5176\\u4e2d\\uff0c\\u6210\\u5c31\\u4e86\\u9019\\u90e8\\u5d84\\u65b0\\u7684\\u300a\\u7f8e\\u9e97\\u7684\\u7d04\\u5b9a\\u300b\\u3002\\r \\u300a\\u7f8e\\u9e97\\u7684\\u7d04\\u5b9a\\u300b\\u539f\\u8457\\u662f\\u6cd5\\u570b\\u5929\\u624d\\u4f5c\\u5bb6\\u4e9e\\u862d\\u5085\\u5c3c\\u8449\\u4e00\\u751f\\u4e2d\\u552f\\u4e00\\u7684\\u5947\\u4f5c\\uff0c\\u4e5f\\u662f\\u4e00\\u500b\\u4e16\\u7d00\\u4ee5\\u4f86\\uff0c\\u8b93\\u5168\\u4e16\\u754c\\u4eba\\u5011\\u6700\\u611b\\u4e0d\\u91cb\\u624b\\u7684\\u540d\\u8457\\u4e4b\\u4e00\\u3002\\u6700\\u5947\\u7279\\u7684\\u662f\\uff0c\\u9019\\u6545\\u4e8b\\u7adf\\u771f\\u5be6\\u53cd\\u6620\\u4e86\\u4e9e\\u862d\\u5085\\u5c3c\\u8449\\u4e00\\u751f\\u7684\\u98a8\\u6d41\\u6d6a\\u6f2b\\uff1a\\u539f\\u4f86\\u4e9e\\u862d\\u5085\\u5c3c\\u8449\\u5c31\\u66fe\\u5728\\u5df4\\u9ece\\u5bae\\u6bbf\\u5916\\uff0c\\u5de7\\u9047\\u7f8e\\u9e97\\u4f73\\u4eba\\u4f0a\\u99ae\\u5a1c\\u5fb7\\u52a0\\u96f7\\u3002\\u9019\\u6bb5\\u77ed\\u66ab\\u7684\\u9082\\u9005\\uff0c\\u7adf\\u6210\\u70ba\\u4ed6\\u4e00\\u751f\\u6700\\u523b\\u9aa8\\u9298\\u5fc3\\u7684\\u611b\\u6200\\u3002\\u96a8\\u5f8c\\uff0c\\u6f2b\\u9577\\u7684\\u5c0b\\u8993\\u548c\\u75db\\u82e6\\u7684\\u714e\\u71ac\\uff0c\\u81ea\\u6b64\\u4e0d\\u65b7\\u4f34\\u96a8\\u8457\\u4ed6\\uff0c\\u4ed6\\u65bc\\u662f\\u5c07\\u9019\\u6bb5\\u611b\\u60c5\\u969b\\u9047\\uff0c\\u5beb\\u6210\\u4e86\\u9019\\u672c\\u66e0\\u4e16\\u9245\\u8457\\u30021913\\u5e74\\uff0c\\u4e9e\\u862d\\u5085\\u5c3c\\u8449\\u8207\\u4f0a\\u99ae\\u5a1c\\u5fb7\\u52a0\\u96f7\\u518d\\u5ea6\\u91cd\\u9022\\uff0c\\u4f46\\u537b\\u6642\\u904e\\u5883\\u9077\\uff0c\\u6614\\u65e5\\u7684\\u7f8e\\u9e97\\u4f73\\u4eba\\uff0c\\u537b\\u5df2\\u5ac1\\u70ba\\u4eba\\u59bb\\u2026\\u3002\\u8e49\\u8dce\\u9752\\u6625\\u3001\\u8f9c\\u8ca0\\u826f\\u7de3\\u8b93\\u4e9e\\u862d\\u5085\\u5c3c\\u8449\\u81ea\\u6b64\\u62b1\\u61be\\u7d42\\u751f\\u3002\\u9694\\u5e74\\uff0c\\u4e9e\\u862d\\u5085\\u5c3c\\u8449\\u53d7\\u5fb5\\u53ec\\u53c3\\u8207\\u7b2c\\u4e00\\u6b21\\u4e16\\u754c\\u5927\\u6230\\uff0c\\u5f9e\\u6b64\\u5c31\\u518d\\u4e5f\\u6c92\\u6709\\u56de\\u4f86\\u2026\\u3002\\u9019\\u90e8\\u4ed6\\u4e00\\u751f\\u4e2d\\u552f\\u4e00\\u7684\\u8457\\u4f5c\\uff0c\\u7cbe\\u5f69\\u512a\\u7f8e\\u3001\\u5bd3\\u610f\\u6df1\\u9060\\u53c8\\u66f2\\u6298\\u96e2\\u5947\\uff0c\\u4e0d\\u50c5\\u4e16\\u4eba\\u50b3\\u980c\\uff0c\\u66f4\\u662f\\u6240\\u6709\\u6587\\u5b78\\u53f2\\u5bb6\\u516c\\u8a8d\\u70ba20\\u4e16\\u7d00\\u6cd5\\u570b\\u6587\\u5b78\\u6700\\u91cd\\u8981\\u7684\\u8457\\u4f5c\\u4e4b\\u4e00\\u3002\\r \\u8ab0\\u6c92\\u6709\\u5e74\\u5c11\\u6642\\u5922\\u60f3\\u548c\\u7d04\\u5b9a\\uff1f\\u8ab0\\u6c92\\u6709\\u904e\\u9752\\u6f80\\u537b\\u6c38\\u96e3\\u5fd8\\u61f7\\u7684\\u521d\\u6200\\uff1f\\u300a\\u7f8e\\u9e97\\u7684\\u7d04\\u5b9a\\u300b\\u5c07\\u5e74\\u8f15\\u4eba\\u5c0d\\u611b\\u60c5\\u7684\\u5922\\u60f3\\u8207\\u8ffd\\u5c0b\\uff0c\\u505a\\u4e86\\u6975\\u6df1\\u523b\\u611f\\u4eba\\u7684\\u63cf\\u7e6a\\u3002\\u7531\\u65bc\\u300a\\u7f8e\\u9e97\\u7684\\u7d04\\u5b9a\\u300b\\u539f\\u8457\\u5c0f\\u8aaa\\u662f\\u6cd5\\u570b\\u5404\\u7d1a\\u4e2d\\u5b78\\u5fc5\\u9078\\u8b80\\u7684\\u6559\\u6750\\uff0c\\u800c\\u5287\\u4e2d\\u500b\\u6027\\u701f\\u7051\\u3001\\u9177\\u611b\\u5192\\u96aa\\u7684\\u7537\\u4e3b\\u89d2\\u300c\\u83ab\\u5357\\u300d\\uff0c\\u5e7e\\u4e4e\\u4e5f\\u6210\\u70ba\\u6240\\u6709\\u6cd5\\u570b\\u5e74\\u8f15\\u4eba\\u6210\\u9577\\u6642\\u7684\\u5fc3\\u4e2d\\u5076\\u50cf\\uff0c\\u5973\\u5b69\\u5011\\u66f4\\u5c07\\u4ed6\\u8996\\u70ba\\u5922\\u4e2d\\u60c5\\u4eba\\u7684\\u6a19\\u7aff\\u3002\\u73a9\\u4e16\\u4e0d\\u606d\\u3001\\u72c2\\u91ce\\u4e0d\\u7f88\\u7684\\u300c\\u83ab\\u5357\\u300d\\uff0c\\u5728\\u7247\\u4e2d\\u96d6\\u7136\\u64c1\\u6709\\u4e86\\u8a31\\u591a\\u4eba\\u7684\\u611b\\uff0c\\u537b\\u56e0\\u70ba\\u5e74\\u5c11\\u8f15\\u72c2\\uff0c\\u4e0d\\u65b7\\u8207\\u4ed6\\u66fe\\u7d93\\u64c1\\u6709\\u7684\\u611b\\u60c5\\u3001\\u627f\\u8afe\\u548c\\u5922\\u60f3\\u4e00\\u4e00\\u64e6\\u8eab\\u800c\\u904e\\uff0c\\u4e5f\\u4f7f\\u6df1\\u611b\\u4ed6\\u7684\\u4eba\\u5fc3\\u75db\\u4e0d\\u5df2\\uff0c\\u751a\\u81f3\\u50b7\\u75d5\\u7d2f\\u7d2f\\u2026\\u3002\\u5c31\\u50cf\\u300a\\u7f8e\\u9e97\\u7684\\u7d04\\u5b9a\\u300b\\u4e2d\\u4e00\\u4f4d\\u7956\\u7236\\u63d0\\u9192\\u5b6b\\u5973\\u8aaa\\uff1a\\u6709\\u4e00\\u7a2e\\u7537\\u4eba\\u5929\\u6027\\u701f\\u7051\\uff0c\\u611b\\u4e0a\\u4ed6\\uff0c\\u8981\\u7528\\u4e00\\u751f\\u4f86\\u7b49\\u5f85\\u2026\\u3002\\r \\u6d6a\\u6f2b\\u52d5\\u4eba\\u7684\\u300a\\u7f8e\\u9e97\\u7684\\u7d04\\u5b9a\\u300b\\u5168\\u7247\\u5728\\u6cd5\\u570b\\u7f8e\\u9e97\\u7684\\u9109\\u6751\\u62cd\\u651d\\uff0c\\u4e26\\u9080\\u8acb\\u6cd5\\u570b\\u5f71\\u58c7\\u7576\\u7d05\\u7684\\u4fca\\u7537\\u7f8e\\u5973\\u5171\\u540c\\u4f86\\u6f14\\u51fa\\uff0c\\u5305\\u62ec\\u6709\\u300a\\u653e\\u725b\\u73ed\\u7684\\u6625\\u5929\\u300b\\u7537\\u4e3b\\u89d2\\u5c1a\\u5df4\\u5824\\u83ab\\u91cc\\u8036\\u3001\\u4ee3\\u8a00HUGO BOSS\\u9999\\u6c34\\u548cLEVIS\\u725b\\u4ed4\\u8932\\u7684\\u6cd5\\u570b\\u7537\\u6a21\\u5c3c\\u53e4\\u62c9\\u8fea\\u4f5b\\u4f11\\u723e\\u3001\\u4ee5\\u300a\\u7f8e\\u9e97\\u863f\\u8cfd\\u5854\\u300b\\u596a\\u4e0b\\u574e\\u57ce\\u5f71\\u540e\\u7684\\u6cd5\\u570b\\u7389\\u5973\\u611b\\u871c\\u9e97\\u5fb7\\u594e\\u6069\\uff0c\\u548c\\u4ee5\\u300a\\u54c8\\u5229\\u6ce2\\u7279\\u300b\\u300c\\u82b1\\u5152\\u300d\\u4e00\\u89d2\\u63da\\u540d\\u5168\\u7403\\u7684\\u6e05\\u7d14\\u5973\\u661f\\u514b\\u96f7\\u66fc\\u7d72\\u6ce2\\u897f\\u7b49\\u3002', u'at_official': u'http://www.tfmdistribution.com/legrandmeaulnes/', u'at_year': u'2006', u'at_type': [], u'at_runtime': u'null', u'at_language': u'French', u'd_rating': u'7.0', u'd_IMDB': u'http://www.imdb.com/title/tt0481349', u'at_atmovie_id': u'fgfr50481349', u'at_imdb': u'http://us.imdb.com/Title?0481349', u'at_picture': u'http://app2.atmovies.com.tw/photo/fgfr50481349/', u'at_publisher': u'\\u6d77\\u9d6c', u'at_truemovie_url': u'http://www.truemovie.com/2006moviedata/GrandMeaulnes.htm', u'd_ratinguser': u'2107', u'true_title_e': u'Le \\n\\t\\tGrand Meaulnes', u'at_area': u'France', u'd_reviews': [{u'1769852': 4}, {u'2388147': 5}, {u'januare': 3}, {u'evein': 1}, {u'jedor': 2}, {u'Julien18661925': 5}, {u'bianziwaiwai': 2}, {u'yetleo': 3}, {u'2455145': 4}, {u'24509512': 5}, {u'37826934': 2}, {u'1511195': 4}, {u'1550631': 5}, {u'randidianying': 4}, {u'1404780': 4}, {u'pppeach': 4}, {u'gavinsays': 5}, {u'pureflora': 3}, {u'campocampo': 3}, {u'seanseal': 3}], u'at_update': u'2016/11/08 15:49', u'true_title_t': u'\\u7f8e\\u9e97\\u7684\\u7d04\\u5b9a', u'at_news': u'/news/film/fgfr50481349/', u'at_title_e': None, u'at_youtube': [], u'at_title_c': u'', u'd_type': u'\\u5267\\u60c5', u'at_intro_s': u'\\u8aa4\\u95d6\\u795e\\u79d8\\u838a\\u5712\\u9082\\u9005\\u4f73\\u4eba\\uff0c\\u537b\\u518d\\u4e5f\\u627e\\u4e0d\\u5230\\u5f80\\u838a\\u5712\\u7684\\u8def\\u2026\\u4ed6\\u5011\\u80fd\\u5426\\u4f9d\\u7d04\\u5b9a\\u518d\\u898b\\u9762\\uff1f20\\u4e16\\u7d00\\u6cd5\\u570b\\u6587\\u5b78\\u540d\\u8457\\u6539\\u7de8\\uff0c\\u4e09\\u4f4d\\u6cd5\\u570b\\u5076\\u50cf\\u5171\\u8b5c\\u9752\\u6625\\u7d00\\u4e8b\\u3002', u'at_box': u''}\n",
      "2135818\n",
      "{u'd_movie_id': u'2135818', u'true_url': u'http://www.truemovie.com/2006moviedata/GlassRabbit.htm', u'at_title_t': u'\\n\\r\\n\\t\\u73bb\\u7483\\u5154 The glass rabbit \\n', u'at_poster': u'http://l10l010l3322l1.photos.atmovies.com.tw:8080/film/2005/G/fgjp30425640/poster/pl_fgjp30425640_0001.jpg', u'at_actor': [], u'true_type': [u'\\u52d5\\u756b', u'\\u5287\\u60c5'], u'd_title1': u'', u'at_release_date': u'2006/02/17', u'at_rating': u'3.0', u'at_writer': [u'\\u5c0f\\u51fa\\u4e00\\u5df3'], u'at_issuer': u'', u'd_title2': u'The Glass Rabbit', u'at_director': [u'\\u56db\\u5206\\u4e00\\u7bc0\\u5b50'], u'at_intro_l': u'\\u5287\\u60c5\\u7c21\\u4ecb\\r\\n\\t\\t\\t\\r\\n             \\t\\t\\u6545\\u4e8b\\u63cf\\u8ff0\\u5728\\u4e8c\\u6b21\\u5927\\u6230\\u665a\\u671f\\uff0c\\u654f\\u5b50\\u8ddf\\u5979\\u7684\\u5bb6\\u4eba\\u4f4f\\u5728\\u6771\\u4eac\\u7684\\u5e02\\u4e2d\\u5fc3\\u3002\\u90a3\\u6642\\uff0c\\u65e5\\u672c\\u7015\\u81e8\\u6230\\u6557\\u7684\\u908a\\u7de3\\uff0c\\u6c11\\u773e\\u98fd\\u53d7\\u7121\\u60c5\\u7684\\u6230\\u706b\\u6467\\u6b98\\u6c11\\u4e0d\\u804a\\u751f\\uff0c\\u6c11\\u751f\\u7269\\u8cc7\\u6975\\u5ea6\\u7f3a\\u4e4f\\u3002\\u8a31\\u591a\\u5bb6\\u5ead\\u7684\\u7537\\u4e01\\u90fd\\u63a5\\u53d7\\u653f\\u5e9c\\u5fb5\\u53ec\\u70ba\\u570b\\u51fa\\u5f81\\uff0c\\u53ea\\u7559\\u4e0b\\u8001\\u5f31\\u5a66\\u5b7a\\u7368\\u81ea\\u5b88\\u8b77\\u6b98\\u7834\\u7684\\u5bb6\\u5712\\u2026\\r \\u4e00\\u4e5d\\u56db\\u4e94\\u5e74\\u4e09\\u6708\\u5341\\u865f\\uff0c\\u654f\\u5b50\\u7684\\u6bcd\\u89aa\\u548c\\u5169\\u500b\\u59b9\\u59b9\\u90fd\\u5728\\u6771\\u4eac\\u7684\\u3127\\u5834\\u5927\\u8f5f\\u70b8\\u4e2d\\u55aa\\u751f\\u3002\\u9813\\u5931\\u81f3\\u89aa\\u7684\\u654f\\u5b50\\u5728\\u5076\\u7136\\u7684\\u3127\\u5929\\uff0c\\u56de\\u5230\\u6b98\\u7834\\u7684\\u5bb6\\u5712\\u88e1\\u64bf\\u8d77\\u88ab\\u6230\\u706b\\u71d2\\u5230\\u8b8a\\u5f62\\u7684\\u300c\\u73bb\\u7483\\u5154\\u300d\\uff0c\\u8b93\\u5979\\u9818\\u609f\\u5230\\u6230\\u722d\\u7684\\u53ef\\u6015\\u8207\\u7121\\u60c5\\u3002\\r \\u6b64\\u5916\\uff0c\\u7576\\u5979\\u88ab\\u8feb\\u64a4\\u96e2\\u5230\\u90ca\\u5340\\u7684\\u6642\\u5019\\uff0c\\u4ed6\\u7684\\u7236\\u89aa\\u537b\\u5728\\u5f80\\u8eca\\u7ad9\\u7684\\u9014\\u4e2d\\u906d\\u7f8e\\u8ecd\\u6bba\\u5bb3\\u4e86\\uff0c\\u5e74\\u7d00\\u5c0f\\u5c0f\\u7684\\u654f\\u5b50\\u4e00\\u5915\\u4e4b\\u9593\\u5931\\u53bb\\u81f3\\u89aa\\uff0c\\u9084\\u5f97\\u7368\\u7acb\\u6599\\u7406\\u7236\\u89aa\\u7684\\u5f8c\\u4e8b\\uff0c\\u5b53\\u7136\\u4e00\\u8eab\\u7684\\u654f\\u5b50\\u611f\\u5230\\u5341\\u5206\\u7684\\u5b64\\u55ae\\uff0c\\u751f\\u7121\\u53ef\\u6200\\u3002\\u4f46\\u53ea\\u8981\\u56de\\u60f3\\u8d77\\u90a3\\u4e9b\\u5728\\u6230\\u706b\\u4e2d\\u6b7b\\u53bb\\u7684\\u89aa\\u4eba\\u5011\\uff0c\\u5979\\u53ea\\u80fd\\u653e\\u4e0b\\u5979\\u7684\\u5b64\\u5bc2\\u8207\\u60b2\\u50b7\\uff0c\\u91cd\\u65b0\\u632f\\u4f5c\\u2026\\u7136\\u800c\\uff0c\\u6230\\u706b\\u7684\\u7121\\u60c5\\u8207\\u6b98\\u9177\\uff0c\\u5f80\\u5f80\\u9644\\u52a0\\u5728\\u4eba\\u5011\\u7684\\u79c1\\u617e\\u8207\\u932f\\u8aa4\\u7684\\u6289\\u64c7\\u4e0a\\u2026\\r     \\u4e00\\u5c01\\u795e\\u98a8\\u7279\\u653b\\u968a\\u539f\\u7559\\u4e0b\\u7684\\u907a\\u66f8\\u9019\\u9ebc\\u5beb\\u8457\\uff1a\\r \\u6211\\u4e0d\\u66fe\\u898b\\u904e\\r\\u4e5f\\u4e0d\\u66fe\\u4ea4\\u8ac7\\u904e\\r\\u7576\\u7136\\u4e5f\\u6c92\\u6709\\u6068\\u904e\\r\\u9019\\u6a23\\u7684\\u4eba\\r\\u6211\\u537b\\u8981\\u53bb\\u6bba\\u5979\\r\\u7d20\\u6627\\u5e73\\u751f\\u7684\\u4eba\\r\\u50cf\\u6211\\u4e00\\u6a23\\u5beb\\u8a69\\r\\u4e00\\u6a23\\u70ba\\u83ab\\u672d\\u7279\\u6d41\\u6dda\\r\\u65e2\\u4f7f\\u5982\\u6b64 \\u6211\\u9084\\u662f\\u8981\\u9060\\u5f81\\r\\u53bb\\u6bba\\u5bb3\\u9019\\u6a23\\u7684\\u4eba\\u2026\\u2026', u'at_official': u'', u'at_year': u'2005', u'at_type': [], u'at_runtime': u'null', u'at_language': u'Japanese', u'd_rating': u'6.9', u'd_IMDB': u'http://www.imdb.com/title/tt0829177', u'at_atmovie_id': u'fgjp30425640', u'at_imdb': u'', u'at_picture': u'http://app2.atmovies.com.tw/photo/fgjp30425640/', u'at_publisher': u'\\u5c71\\u6c34\\u570b\\u969b\\u5a1b\\u6a02', u'at_truemovie_url': u'http://www.truemovie.com/2006moviedata/GlassRabbit.htm', u'd_ratinguser': u'199', u'true_title_e': u'The \\n\\t\\tGlass Rabbit', u'at_area': u'Japan', u'd_reviews': [{u'TerryLi': 3}, {u'proths': 3}, {u'chutianling': 5}, {u'wbluegreen': 3}, {u'68443253': 3}, {u'1034432': 2}], u'at_update': u'2016/11/08 18:52', u'true_title_t': u'\\u73bb\\u7483\\u5154', u'at_news': u'null', u'at_title_e': None, u'at_youtube': [], u'at_title_c': u'', u'd_type': u'\\u52a8\\u753b', u'at_intro_s': u'\\u8981\\u6230\\u722d\\uff1f\\u9084\\u662f\\u548c\\u5e73\\uff1f\\u6bd4[\\u87a2\\u706b\\u87f2\\u4e4b\\u5893]\\u66f4\\u5fc3\\u788e\\u7684\\u6545\\u4e8b-\\u5167\\u5fc3\\u5c0d\\u548c\\u5e73\\u6700\\u771f\\u5be6\\u7684\\u6e34\\u671b', u'at_box': u''}\n"
     ]
    }
   ],
   "source": [
    "\"\"\"\n",
    "目標：利用我們的最終電影名單 Final.csv\n",
    "到mongoDB的3個collections裡，去抓個部電影的資料，\n",
    "然後整理成一個document，再回傳到monDB裡，\n",
    "這樣我們每部電影的資料就集中，不會分散在不同的collections中\n",
    "\"\"\"\n",
    "# 將我們的最終電影名單讀進來，第一行是標題略過不讀，不給標題\n",
    "data = pd.read_csv('Final.csv', encoding='utf-8', skiprows=[0], header=None)\n",
    "\n",
    "#print len(data)\n",
    "\n",
    "# 將讀進的來的dataframe，取各自電影的list名單，因為是dataframe，所以會有順序，它會從第一筆讀到最後一筆，產生list\n",
    "douban = data[0].values.tolist()    # 豆瓣在第一column\n",
    "truemovie = data[1].values.tolist()    # 觸電網在第二column\n",
    "atmovie = data[2].values.tolist()    # 開眼在第三column\n",
    "\n",
    "# 建立MongoDB連線\n",
    "client = MongoClient(\"localhost\", 27018)\n",
    "\n",
    "#我們自己訂的db 和 collection\n",
    "db = client.final\n",
    "collect = db.threeInOne\n",
    "\n",
    "# 利用迴圈將每筆資料讀出來，資料長度 = len(data)\n",
    "i = 0\n",
    "while i < len(data):\n",
    "    \n",
    "    # 用來裝每一部電影的空dict，之後要把它insert回去mongoDB\n",
    "    movie = {}\n",
    "    print douban[i]\n",
    "    \n",
    "    # 利用上面的名單，去找出我們的目標電影，因為當初的dataframe是有順序的，所以在同一個i值底下，就是同一部電影\n",
    "    douban_cursor = db.douban.find({\"movie_id\": str(douban[i])})\n",
    "    truemovie_cursor = db.truemovie.find({\"url\": str(truemovie[i])})\n",
    "    atmovie_cursor = db.atmovie.find({\"atmovie_id\": str(atmovie[i])})\n",
    "    \n",
    "#    print douban_cursor\n",
    "\n",
    "    \"\"\"\n",
    "    下面的目標：是要 1. 先從找到的電影中，拿到它的key值，並讓它變成新的document的key\n",
    "                    2. 利用拿到的key值，就可以得到該key的value\n",
    "                    就可以產生新的電影document\n",
    "    \"\"\"\n",
    "    # 針對douban，因為find出來的cursor是一個object，所以要這樣把裡面的document讀出來，其實一個cursor也只有一個document\n",
    "    for douban_document in douban_cursor:\n",
    "        \n",
    "        # 用來裝document裡面，每個欄位值的空list\n",
    "        douban_field_name_list = []\n",
    "        \n",
    "        # 取出document中的所有key值\n",
    "        for douban_key in douban_document:\n",
    "            # 單一欄位，要有兩個值[\"要塞進mongoDB的新key\", \"舊的key(for取value用)\"],每一個欄位要用新的list裝，所以放在迴圈裡\n",
    "            douba_sigle_movie = []\n",
    "            \n",
    "            # 不是_id就通通留下來\n",
    "            if douban_key != \"_id\":\n",
    "                douba_sigle_movie.append(\"d_\" + douban_key) # 產生新key\n",
    "                douba_sigle_movie.append(douban_key) #舊key(for取值)\n",
    "                \n",
    "                # 將組合好的[新key, 舊key]放進douban_field_name_list\n",
    "                douban_field_name_list.append(douba_sigle_movie)\n",
    "        \n",
    "        # 將douban_field_name_list裡的每個list→[新key, 舊key]讀出來，然後拿給movie.update()用，\n",
    "        # update()裡面放{key:value}，key=douban_field_name[0], value=douban_document[douban_field_name[1]]\n",
    "        [movie.update({douban_field_name[0] : douban_document[douban_field_name[1]]}) for douban_field_name in douban_field_name_list]\n",
    "\n",
    "    for truemovie_document in truemovie_cursor:\n",
    "        \n",
    "        truemovie_field_name_list = []\n",
    "        \n",
    "        for truemovie_key in truemovie_document:\n",
    "            truemovie_sigle_movie = []\n",
    "            if truemovie_key != \"_id\":\n",
    "                truemovie_sigle_movie.append(\"true_\" + truemovie_key)\n",
    "                truemovie_sigle_movie.append(truemovie_key)\n",
    "                truemovie_field_name_list.append(truemovie_sigle_movie)\n",
    "        \n",
    "        [movie.update({truemovie_field_name[0] : truemovie_document[truemovie_field_name[1]]}) for truemovie_field_name in truemovie_field_name_list]\n",
    "\n",
    "    for atmovie_document in atmovie_cursor:\n",
    "        \n",
    "        atmovie_field_name_list = []\n",
    "        \n",
    "        for atmovie_key in atmovie_document:\n",
    "            atmovie_sigle_movie = []\n",
    "            if atmovie_key != \"_id\":\n",
    "                atmovie_sigle_movie.append(\"at_\" + atmovie_key)\n",
    "                atmovie_sigle_movie.append(atmovie_key)\n",
    "                atmovie_field_name_list.append(atmovie_sigle_movie)\n",
    "        \n",
    "        [movie.update({atmovie_field_name[0] : atmovie_document[atmovie_field_name[1]]}) for atmovie_field_name in atmovie_field_name_list]\n",
    "        \n",
    "        print movie\n",
    "        i += 1\n",
    "        \n",
    "        # 三部電影的放進movie{}，就完成了，把movie{} insert進去mongoDB就好了~\n",
    "        collect.insert_one(movie)"
   ]
  },
  {
   "cell_type": "code",
   "execution_count": null,
   "metadata": {
    "collapsed": true
   },
   "outputs": [],
   "source": []
  }
 ],
 "metadata": {
  "anaconda-cloud": {},
  "kernelspec": {
   "display_name": "Python [Root]",
   "language": "python",
   "name": "Python [Root]"
  },
  "language_info": {
   "codemirror_mode": {
    "name": "ipython",
    "version": 2
   },
   "file_extension": ".py",
   "mimetype": "text/x-python",
   "name": "python",
   "nbconvert_exporter": "python",
   "pygments_lexer": "ipython2",
   "version": "2.7.12"
  }
 },
 "nbformat": 4,
 "nbformat_minor": 0
}
